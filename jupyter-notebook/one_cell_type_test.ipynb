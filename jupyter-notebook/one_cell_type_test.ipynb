{
 "cells": [
  {
   "cell_type": "code",
   "execution_count": 27,
   "id": "arbitrary-convenience",
   "metadata": {},
   "outputs": [],
   "source": [
    "import pandas as pd\n",
    "from scipy.spatial import distance\n",
    "import numpy as np"
   ]
  },
  {
   "cell_type": "code",
   "execution_count": 24,
   "id": "global-camcorder",
   "metadata": {},
   "outputs": [],
   "source": [
    "embedding = pd.read_csv('../../tools/SignedS2V/emb/Pneumocyte_eeisp.emb', \n",
    "                        skiprows=1, \n",
    "                        header=None,\n",
    "                        index_col=0,\n",
    "                        sep=' ')\n",
    "embedding = embedding.transpose()"
   ]
  },
  {
   "cell_type": "code",
   "execution_count": 28,
   "id": "sticky-character",
   "metadata": {},
   "outputs": [],
   "source": [
    "def find_closest_nodes(df, target_node, n):\n",
    "    if target_node not in df.columns:\n",
    "        raise ValueError(\"Target node not found in DataFrame\")\n",
    "\n",
    "    # Extract the embedding vector of the target node\n",
    "    target_embedding = df[target_node].values\n",
    "\n",
    "    distances = {}\n",
    "\n",
    "    # Calculate distance to all other nodes\n",
    "    for node in df.columns:\n",
    "        if node != target_node:\n",
    "            node_embedding = df[node].values\n",
    "            dist = distance.euclidean(target_embedding, node_embedding)\n",
    "            distances[node] = dist\n",
    "\n",
    "    # Sort the distances and return the n closest nodes\n",
    "    closest_nodes = sorted(distances, key=distances.get)[:n]\n",
    "    return closest_nodes"
   ]
  },
  {
   "cell_type": "code",
   "execution_count": 42,
   "id": "adverse-montana",
   "metadata": {},
   "outputs": [
    {
     "ename": "ValueError",
     "evalue": "Target node not found in DataFrame",
     "output_type": "error",
     "traceback": [
      "\u001b[0;31m---------------------------------------------------------------------------\u001b[0m",
      "\u001b[0;31mValueError\u001b[0m                                Traceback (most recent call last)",
      "\u001b[0;32m/var/folders/m6/gvr8jt9s3794f_p2drvrhgw80000gn/T/ipykernel_63434/2791265847.py\u001b[0m in \u001b[0;36m<module>\u001b[0;34m\u001b[0m\n\u001b[0;32m----> 1\u001b[0;31m \u001b[0mtest1\u001b[0m \u001b[0;34m=\u001b[0m \u001b[0mfind_closest_nodes\u001b[0m\u001b[0;34m(\u001b[0m\u001b[0membedding\u001b[0m\u001b[0;34m,\u001b[0m\u001b[0;36m2\u001b[0m\u001b[0;34m,\u001b[0m \u001b[0;36m5\u001b[0m\u001b[0;34m)\u001b[0m\u001b[0;34m\u001b[0m\u001b[0;34m\u001b[0m\u001b[0m\n\u001b[0m",
      "\u001b[0;32m/var/folders/m6/gvr8jt9s3794f_p2drvrhgw80000gn/T/ipykernel_63434/987193618.py\u001b[0m in \u001b[0;36mfind_closest_nodes\u001b[0;34m(df, target_node, n)\u001b[0m\n\u001b[1;32m      1\u001b[0m \u001b[0;32mdef\u001b[0m \u001b[0mfind_closest_nodes\u001b[0m\u001b[0;34m(\u001b[0m\u001b[0mdf\u001b[0m\u001b[0;34m,\u001b[0m \u001b[0mtarget_node\u001b[0m\u001b[0;34m,\u001b[0m \u001b[0mn\u001b[0m\u001b[0;34m)\u001b[0m\u001b[0;34m:\u001b[0m\u001b[0;34m\u001b[0m\u001b[0;34m\u001b[0m\u001b[0m\n\u001b[1;32m      2\u001b[0m     \u001b[0;32mif\u001b[0m \u001b[0mtarget_node\u001b[0m \u001b[0;32mnot\u001b[0m \u001b[0;32min\u001b[0m \u001b[0mdf\u001b[0m\u001b[0;34m.\u001b[0m\u001b[0mcolumns\u001b[0m\u001b[0;34m:\u001b[0m\u001b[0;34m\u001b[0m\u001b[0;34m\u001b[0m\u001b[0m\n\u001b[0;32m----> 3\u001b[0;31m         \u001b[0;32mraise\u001b[0m \u001b[0mValueError\u001b[0m\u001b[0;34m(\u001b[0m\u001b[0;34m\"Target node not found in DataFrame\"\u001b[0m\u001b[0;34m)\u001b[0m\u001b[0;34m\u001b[0m\u001b[0;34m\u001b[0m\u001b[0m\n\u001b[0m\u001b[1;32m      4\u001b[0m \u001b[0;34m\u001b[0m\u001b[0m\n\u001b[1;32m      5\u001b[0m     \u001b[0;31m# Extract the embedding vector of the target node\u001b[0m\u001b[0;34m\u001b[0m\u001b[0;34m\u001b[0m\u001b[0;34m\u001b[0m\u001b[0m\n",
      "\u001b[0;31mValueError\u001b[0m: Target node not found in DataFrame"
     ]
    }
   ],
   "source": [
    "test1 = find_closest_nodes(embedding,2, 5)"
   ]
  },
  {
   "cell_type": "code",
   "execution_count": 38,
   "id": "british-allen",
   "metadata": {},
   "outputs": [
    {
     "data": {
      "text/plain": [
       "[420, 438, 472, 381, 1474]"
      ]
     },
     "execution_count": 38,
     "metadata": {},
     "output_type": "execute_result"
    }
   ],
   "source": [
    "test1"
   ]
  },
  {
   "cell_type": "code",
   "execution_count": null,
   "id": "comparative-auditor",
   "metadata": {},
   "outputs": [],
   "source": []
  }
 ],
 "metadata": {
  "kernelspec": {
   "display_name": "role_single_cell",
   "language": "python",
   "name": "role_single_cell"
  },
  "language_info": {
   "codemirror_mode": {
    "name": "ipython",
    "version": 3
   },
   "file_extension": ".py",
   "mimetype": "text/x-python",
   "name": "python",
   "nbconvert_exporter": "python",
   "pygments_lexer": "ipython3",
   "version": "3.7.16"
  }
 },
 "nbformat": 4,
 "nbformat_minor": 5
}
