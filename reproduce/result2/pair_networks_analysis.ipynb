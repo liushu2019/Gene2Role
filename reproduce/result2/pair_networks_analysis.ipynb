{
 "cells": [
  {
   "cell_type": "code",
   "execution_count": 3,
   "id": "seeing-cholesterol",
   "metadata": {
    "tags": []
   },
   "outputs": [],
   "source": [
    "import pandas as pd\n",
    "import numpy as np"
   ]
  },
  {
   "cell_type": "code",
   "execution_count": 5,
   "id": "d20cf1c1-305e-40b9-9461-8c98f9933a39",
   "metadata": {},
   "outputs": [],
   "source": [
    "import os\n",
    "os.chdir('/Users/zeng/Desktop/project/role_singlecell/codes/reproduce/')\n",
    "from dtg_utils import *\n",
    "from draw_1_hop import *"
   ]
  },
  {
   "cell_type": "markdown",
   "id": "brilliant-church",
   "metadata": {},
   "source": [
    "### Human glioblastoma"
   ]
  },
  {
   "cell_type": "code",
   "execution_count": 9,
   "id": "psychological-guyana",
   "metadata": {
    "tags": []
   },
   "outputs": [
    {
     "data": {
      "text/html": [
       "<div>\n",
       "<style scoped>\n",
       "    .dataframe tbody tr th:only-of-type {\n",
       "        vertical-align: middle;\n",
       "    }\n",
       "\n",
       "    .dataframe tbody tr th {\n",
       "        vertical-align: top;\n",
       "    }\n",
       "\n",
       "    .dataframe thead th {\n",
       "        text-align: right;\n",
       "    }\n",
       "</style>\n",
       "<table border=\"1\" class=\"dataframe\">\n",
       "  <thead>\n",
       "    <tr style=\"text-align: right;\">\n",
       "      <th></th>\n",
       "      <th>Unnamed: 0</th>\n",
       "      <th>0h</th>\n",
       "      <th>t12</th>\n",
       "    </tr>\n",
       "  </thead>\n",
       "  <tbody>\n",
       "    <tr>\n",
       "      <th>0</th>\n",
       "      <td>AL627309.1</td>\n",
       "      <td>1</td>\n",
       "      <td>1983</td>\n",
       "    </tr>\n",
       "    <tr>\n",
       "      <th>1</th>\n",
       "      <td>LINC00115</td>\n",
       "      <td>2</td>\n",
       "      <td>1984</td>\n",
       "    </tr>\n",
       "    <tr>\n",
       "      <th>2</th>\n",
       "      <td>LINC02593</td>\n",
       "      <td>3</td>\n",
       "      <td>1985</td>\n",
       "    </tr>\n",
       "    <tr>\n",
       "      <th>3</th>\n",
       "      <td>SAMD11</td>\n",
       "      <td>4</td>\n",
       "      <td>1986</td>\n",
       "    </tr>\n",
       "    <tr>\n",
       "      <th>4</th>\n",
       "      <td>HES4</td>\n",
       "      <td>5</td>\n",
       "      <td>1987</td>\n",
       "    </tr>\n",
       "  </tbody>\n",
       "</table>\n",
       "</div>"
      ],
      "text/plain": [
       "   Unnamed: 0  0h   t12\n",
       "0  AL627309.1   1  1983\n",
       "1   LINC00115   2  1984\n",
       "2   LINC02593   3  1985\n",
       "3      SAMD11   4  1986\n",
       "4        HES4   5  1987"
      ]
     },
     "execution_count": 9,
     "metadata": {},
     "output_type": "execute_result"
    }
   ],
   "source": [
    "glioblastoma_embedding = pd.read_csv('../../results/data/singleCell/glioblastoma/0_12_hours.emb',\n",
    "                                    sep=' ',\n",
    "                                    skiprows=1,\n",
    "                                    header=None,\n",
    "                                    index_col=0)\n",
    "glioblastoma_index = pd.read_csv('../../results/data/singleCell/glioblastoma/splitMatrix/index_tracker.tsv',\n",
    "                                sep='\\t')\n",
    "glioblastoma_index.head(5)"
   ]
  },
  {
   "cell_type": "code",
   "execution_count": 10,
   "id": "indie-reset",
   "metadata": {
    "tags": []
   },
   "outputs": [
    {
     "data": {
      "image/png": "[encoded data removed]",
      "text/plain": [
       "<Figure size 640x480 with 1 Axes>"
      ]
     },
     "metadata": {},
     "output_type": "display_data"
    }
   ],
   "source": [
    "glioblastoma_distance = cal_node_distances(glioblastoma_index, glioblastoma_embedding)"
   ]
  },
  {
   "cell_type": "markdown",
   "id": "d6c2095e-cd6d-43a1-bc01-94e9daff5adc",
   "metadata": {},
   "source": [
    "#### output the distances for visualization "
   ]
  },
  {
   "cell_type": "code",
   "execution_count": 11,
   "id": "strong-wheel",
   "metadata": {},
   "outputs": [],
   "source": [
    "glioblastoma_distance.to_csv('../../results/single_cell/glioblastoma/glb_eeisp_distance.csv', \n",
    "                             sep='\\t',\n",
    "                             index=False)"
   ]
  },
  {
   "cell_type": "markdown",
   "id": "652f9e03-2b23-4705-a9cb-f637baf2a978",
   "metadata": {},
   "source": [
    "#### plot the nodes with largest distance "
   ]
  },
  {
   "cell_type": "code",
   "execution_count": 45,
   "id": "herbal-missouri",
   "metadata": {},
   "outputs": [],
   "source": [
    "# read the orginal edgelist\n",
    "glioblastoma_edgelist = '../../results/data/singleCell/glioblastoma/Exp2_1_2_merged.edgelist'\n",
    "edgelist = pd.read_csv(pbmc_edgelist, sep='\\t', header=None)\n",
    "edgelist_list = edgelist.iloc[:, :2].stack().unique().tolist()\n",
    "\n",
    "# save path\n",
    "path = '/Users/xinzeng/Desktop/research/role_singlecell/results/single_cell/glioblastoma/'"
   ]
  },
  {
   "cell_type": "code",
   "execution_count": 47,
   "id": "temporal-scotland",
   "metadata": {},
   "outputs": [
    {
     "name": "stdout",
     "output_type": "stream",
     "text": [
      "CD164\n",
      "MAP1A\n",
      "DKK3\n",
      "CD44\n",
      "LDHA\n"
     ]
    }
   ],
   "source": [
    "id_list = glioblastoma_distance.iloc[:5, [0, 1, 2]].values.tolist()\n",
    "for index_list in id_list:\n",
    "    print(index_list[0])\n",
    "    batch_plot_1_hop(glioblastoma_edgelist,index_list[1:],path,index_list[0], edgelist_list)"
   ]
  },
  {
   "cell_type": "code",
   "execution_count": 48,
   "id": "turned-actor",
   "metadata": {},
   "outputs": [
    {
     "name": "stdout",
     "output_type": "stream",
     "text": [
      "[['CCDC18', 88, 2070], ['NUCKS1', 178, 2160], ['FBXO32', 925, 2907], ['KCNN3', 130, 2112], ['HMGB3', 1968, 3950]]\n",
      "2160\n"
     ]
    }
   ],
   "source": [
    "id_list = glioblastoma_distance.iloc[600:605, [0, 1, 2]].values.tolist()\n",
    "print(id_list)\n",
    "for index_list in id_list:\n",
    "    batch_plot_1_hop(glioblastoma_edgelist,index_list[1:],path,index_list[0], edgelist_list)"
   ]
  },
  {
   "cell_type": "code",
   "execution_count": 67,
   "id": "charitable-cloud",
   "metadata": {},
   "outputs": [
    {
     "name": "stdout",
     "output_type": "stream",
     "text": [
      "1.0116420114734415\n"
     ]
    }
   ],
   "source": [
    "egr = glioblastoma_distance[glioblastoma_distance['Unnamed: 0'] == 'GMNN'].values.tolist()[0]\n",
    "egr\n",
    "batch_plot_1_hop(glioblastoma_edgelist,egr[1:],path,egr[0], edgelist_list)"
   ]
  },
  {
   "cell_type": "markdown",
   "id": "economic-reasoning",
   "metadata": {},
   "source": [
    "### PBMC"
   ]
  },
  {
   "cell_type": "code",
   "execution_count": 68,
   "id": "selected-confidence",
   "metadata": {},
   "outputs": [
    {
     "data": {
      "text/html": [
       "<div>\n",
       "<style scoped>\n",
       "    .dataframe tbody tr th:only-of-type {\n",
       "        vertical-align: middle;\n",
       "    }\n",
       "\n",
       "    .dataframe tbody tr th {\n",
       "        vertical-align: top;\n",
       "    }\n",
       "\n",
       "    .dataframe thead th {\n",
       "        text-align: right;\n",
       "    }\n",
       "</style>\n",
       "<table border=\"1\" class=\"dataframe\">\n",
       "  <thead>\n",
       "    <tr style=\"text-align: right;\">\n",
       "      <th></th>\n",
       "      <th>Unnamed: 0</th>\n",
       "      <th>CD4.N</th>\n",
       "      <th>22_CD4.M</th>\n",
       "    </tr>\n",
       "  </thead>\n",
       "  <tbody>\n",
       "    <tr>\n",
       "      <th>0</th>\n",
       "      <td>GNLY</td>\n",
       "      <td>1</td>\n",
       "      <td>2001</td>\n",
       "    </tr>\n",
       "    <tr>\n",
       "      <th>1</th>\n",
       "      <td>KLRB1</td>\n",
       "      <td>2</td>\n",
       "      <td>2002</td>\n",
       "    </tr>\n",
       "    <tr>\n",
       "      <th>2</th>\n",
       "      <td>NKG7</td>\n",
       "      <td>3</td>\n",
       "      <td>2003</td>\n",
       "    </tr>\n",
       "    <tr>\n",
       "      <th>3</th>\n",
       "      <td>CCL5</td>\n",
       "      <td>4</td>\n",
       "      <td>2004</td>\n",
       "    </tr>\n",
       "    <tr>\n",
       "      <th>4</th>\n",
       "      <td>ACTG1</td>\n",
       "      <td>5</td>\n",
       "      <td>2005</td>\n",
       "    </tr>\n",
       "  </tbody>\n",
       "</table>\n",
       "</div>"
      ],
      "text/plain": [
       "  Unnamed: 0  CD4.N  22_CD4.M\n",
       "0       GNLY      1      2001\n",
       "1      KLRB1      2      2002\n",
       "2       NKG7      3      2003\n",
       "3       CCL5      4      2004\n",
       "4      ACTG1      5      2005"
      ]
     },
     "execution_count": 68,
     "metadata": {},
     "output_type": "execute_result"
    }
   ],
   "source": [
    "NM_CD4_embedding = pd.read_csv('../../results/new_pairwise_exp/pbmc_rna/PBMC_CD4.emb',\n",
    "                                    sep=' ',\n",
    "                                    skiprows=1,\n",
    "                                    header=None,\n",
    "                                    index_col=0)\n",
    "NM_CD4_index = pd.read_csv('../../results/new_pairwise_exp/pbmc_rna/splitMatrix/index_tracker.tsv',\n",
    "                                sep='\\t')\n",
    "NM_CD4_index.head(5)"
   ]
  },
  {
   "cell_type": "code",
   "execution_count": 69,
   "id": "silent-princeton",
   "metadata": {},
   "outputs": [
    {
     "data": {
      "image/png": "[encoded data removed]",
      "text/plain": [
       "<Figure size 640x480 with 1 Axes>"
      ]
     },
     "metadata": {},
     "output_type": "display_data"
    }
   ],
   "source": [
    "N_M_CD4_distance = cal_node_distances(NM_CD4_index, NM_CD4_embedding)"
   ]
  },
  {
   "cell_type": "code",
   "execution_count": 70,
   "id": "seasonal-stable",
   "metadata": {},
   "outputs": [
    {
     "data": {
      "text/html": [
       "<div>\n",
       "<style scoped>\n",
       "    .dataframe tbody tr th:only-of-type {\n",
       "        vertical-align: middle;\n",
       "    }\n",
       "\n",
       "    .dataframe tbody tr th {\n",
       "        vertical-align: top;\n",
       "    }\n",
       "\n",
       "    .dataframe thead th {\n",
       "        text-align: right;\n",
       "    }\n",
       "</style>\n",
       "<table border=\"1\" class=\"dataframe\">\n",
       "  <thead>\n",
       "    <tr style=\"text-align: right;\">\n",
       "      <th></th>\n",
       "      <th>Unnamed: 0</th>\n",
       "      <th>CD4.N</th>\n",
       "      <th>22_CD4.M</th>\n",
       "      <th>distance</th>\n",
       "    </tr>\n",
       "  </thead>\n",
       "  <tbody>\n",
       "    <tr>\n",
       "      <th>617</th>\n",
       "      <td>CARD16</td>\n",
       "      <td>618</td>\n",
       "      <td>2618</td>\n",
       "      <td>5.431743</td>\n",
       "    </tr>\n",
       "    <tr>\n",
       "      <th>66</th>\n",
       "      <td>SAT1</td>\n",
       "      <td>67</td>\n",
       "      <td>2067</td>\n",
       "      <td>5.402437</td>\n",
       "    </tr>\n",
       "    <tr>\n",
       "      <th>869</th>\n",
       "      <td>PSTPIP2</td>\n",
       "      <td>870</td>\n",
       "      <td>2870</td>\n",
       "      <td>5.236638</td>\n",
       "    </tr>\n",
       "    <tr>\n",
       "      <th>754</th>\n",
       "      <td>GPRIN3</td>\n",
       "      <td>755</td>\n",
       "      <td>2755</td>\n",
       "      <td>5.176708</td>\n",
       "    </tr>\n",
       "    <tr>\n",
       "      <th>977</th>\n",
       "      <td>RRM1</td>\n",
       "      <td>978</td>\n",
       "      <td>2978</td>\n",
       "      <td>5.163019</td>\n",
       "    </tr>\n",
       "  </tbody>\n",
       "</table>\n",
       "</div>"
      ],
      "text/plain": [
       "    Unnamed: 0  CD4.N  22_CD4.M  distance\n",
       "617     CARD16    618      2618  5.431743\n",
       "66        SAT1     67      2067  5.402437\n",
       "869    PSTPIP2    870      2870  5.236638\n",
       "754     GPRIN3    755      2755  5.176708\n",
       "977       RRM1    978      2978  5.163019"
      ]
     },
     "execution_count": 70,
     "metadata": {},
     "output_type": "execute_result"
    }
   ],
   "source": [
    "N_M_CD4_distance.to_csv('../../results/result2/pbmc_NM_CD4_distance.csv', sep='\\t', index=False)\n",
    "N_M_CD4_distance.head(5)"
   ]
  },
  {
   "cell_type": "code",
   "execution_count": 71,
   "id": "sustained-account",
   "metadata": {},
   "outputs": [],
   "source": [
    "pbmc_edgelist = '../../results/new_pairwise_exp/pbmc_rna/PBMC_CD4_merged.edgelist'\n",
    "edgelist = pd.read_csv(pbmc_edgelist, sep='\\t', header=None)\n",
    "edgelist_list = edgelist.iloc[:, :2].stack().unique().tolist()\n",
    "path = '/Users/xinzeng/Desktop/research/role_singlecell/results/result2/pbmc_pairs/'"
   ]
  },
  {
   "cell_type": "code",
   "execution_count": 21,
   "id": "bibliographic-wrestling",
   "metadata": {},
   "outputs": [],
   "source": [
    "id_list = N_M_CD4_distance.iloc[:10, [0, 1, 2]].values.tolist()\n",
    "\n",
    "for index_list in id_list:\n",
    "    batch_plot_1_hop(pbmc_edgelist,index_list[1:],path,index_list[0], edgelist_list)"
   ]
  },
  {
   "cell_type": "code",
   "execution_count": 72,
   "id": "relative-freeze",
   "metadata": {},
   "outputs": [
    {
     "name": "stdout",
     "output_type": "stream",
     "text": [
      "1.0035137426233751\n"
     ]
    }
   ],
   "source": [
    "egr = N_M_CD4_distance[N_M_CD4_distance['Unnamed: 0'] == 'SP140'].values.tolist()[0]\n",
    "egr\n",
    "batch_plot_1_hop(pbmc_edgelist,egr[1:],path,egr[0], edgelist_list)"
   ]
  },
  {
   "cell_type": "markdown",
   "id": "loaded-conservative",
   "metadata": {},
   "source": [
    "### BMMC"
   ]
  },
  {
   "cell_type": "code",
   "execution_count": 73,
   "id": "congressional-salmon",
   "metadata": {},
   "outputs": [
    {
     "data": {
      "text/html": [
       "<div>\n",
       "<style scoped>\n",
       "    .dataframe tbody tr th:only-of-type {\n",
       "        vertical-align: middle;\n",
       "    }\n",
       "\n",
       "    .dataframe tbody tr th {\n",
       "        vertical-align: top;\n",
       "    }\n",
       "\n",
       "    .dataframe thead th {\n",
       "        text-align: right;\n",
       "    }\n",
       "</style>\n",
       "<table border=\"1\" class=\"dataframe\">\n",
       "  <thead>\n",
       "    <tr style=\"text-align: right;\">\n",
       "      <th></th>\n",
       "      <th>Unnamed: 0</th>\n",
       "      <th>CD14.Mono</th>\n",
       "      <th>GMP</th>\n",
       "    </tr>\n",
       "  </thead>\n",
       "  <tbody>\n",
       "    <tr>\n",
       "      <th>0</th>\n",
       "      <td>PRTN3</td>\n",
       "      <td>1</td>\n",
       "      <td>2001</td>\n",
       "    </tr>\n",
       "    <tr>\n",
       "      <th>1</th>\n",
       "      <td>ELANE</td>\n",
       "      <td>2</td>\n",
       "      <td>2002</td>\n",
       "    </tr>\n",
       "    <tr>\n",
       "      <th>2</th>\n",
       "      <td>CTSG</td>\n",
       "      <td>3</td>\n",
       "      <td>2003</td>\n",
       "    </tr>\n",
       "    <tr>\n",
       "      <th>3</th>\n",
       "      <td>IGLL1</td>\n",
       "      <td>4</td>\n",
       "      <td>2004</td>\n",
       "    </tr>\n",
       "    <tr>\n",
       "      <th>4</th>\n",
       "      <td>AZU1</td>\n",
       "      <td>5</td>\n",
       "      <td>2005</td>\n",
       "    </tr>\n",
       "  </tbody>\n",
       "</table>\n",
       "</div>"
      ],
      "text/plain": [
       "  Unnamed: 0  CD14.Mono   GMP\n",
       "0      PRTN3          1  2001\n",
       "1      ELANE          2  2002\n",
       "2       CTSG          3  2003\n",
       "3      IGLL1          4  2004\n",
       "4       AZU1          5  2005"
      ]
     },
     "execution_count": 73,
     "metadata": {},
     "output_type": "execute_result"
    }
   ],
   "source": [
    "BMMC_embedding = pd.read_csv('../../results/new_pairwise_exp/bmmc_rna/GMP_CD14_Monocytes.emb',\n",
    "                                    sep=' ',\n",
    "                                    skiprows=1,\n",
    "                                    header=None,\n",
    "                                    index_col=0)\n",
    "BMMC_index = pd.read_csv('../../results/new_pairwise_exp/bmmc_rna/splitMatrix/index_tracker.tsv',\n",
    "                                sep='\\t')\n",
    "BMMC_index.head(5)"
   ]
  },
  {
   "cell_type": "code",
   "execution_count": 74,
   "id": "revised-highlight",
   "metadata": {},
   "outputs": [
    {
     "data": {
      "image/png": "[encoded data removed]",
      "text/plain": [
       "<Figure size 640x480 with 1 Axes>"
      ]
     },
     "metadata": {},
     "output_type": "display_data"
    },
    {
     "data": {
      "text/html": [
       "<div>\n",
       "<style scoped>\n",
       "    .dataframe tbody tr th:only-of-type {\n",
       "        vertical-align: middle;\n",
       "    }\n",
       "\n",
       "    .dataframe tbody tr th {\n",
       "        vertical-align: top;\n",
       "    }\n",
       "\n",
       "    .dataframe thead th {\n",
       "        text-align: right;\n",
       "    }\n",
       "</style>\n",
       "<table border=\"1\" class=\"dataframe\">\n",
       "  <thead>\n",
       "    <tr style=\"text-align: right;\">\n",
       "      <th></th>\n",
       "      <th>Unnamed: 0</th>\n",
       "      <th>CD14.Mono</th>\n",
       "      <th>GMP</th>\n",
       "      <th>distance</th>\n",
       "    </tr>\n",
       "  </thead>\n",
       "  <tbody>\n",
       "    <tr>\n",
       "      <th>381</th>\n",
       "      <td>ETS1</td>\n",
       "      <td>382</td>\n",
       "      <td>2382</td>\n",
       "      <td>5.073544</td>\n",
       "    </tr>\n",
       "    <tr>\n",
       "      <th>317</th>\n",
       "      <td>CENPM</td>\n",
       "      <td>318</td>\n",
       "      <td>2318</td>\n",
       "      <td>4.915838</td>\n",
       "    </tr>\n",
       "    <tr>\n",
       "      <th>1849</th>\n",
       "      <td>PSMD2</td>\n",
       "      <td>1850</td>\n",
       "      <td>3850</td>\n",
       "      <td>4.846493</td>\n",
       "    </tr>\n",
       "    <tr>\n",
       "      <th>1434</th>\n",
       "      <td>CKAP2</td>\n",
       "      <td>1435</td>\n",
       "      <td>3435</td>\n",
       "      <td>4.813484</td>\n",
       "    </tr>\n",
       "    <tr>\n",
       "      <th>983</th>\n",
       "      <td>HLA-DQA2</td>\n",
       "      <td>984</td>\n",
       "      <td>2984</td>\n",
       "      <td>4.725390</td>\n",
       "    </tr>\n",
       "  </tbody>\n",
       "</table>\n",
       "</div>"
      ],
      "text/plain": [
       "     Unnamed: 0  CD14.Mono   GMP  distance\n",
       "381        ETS1        382  2382  5.073544\n",
       "317       CENPM        318  2318  4.915838\n",
       "1849      PSMD2       1850  3850  4.846493\n",
       "1434      CKAP2       1435  3435  4.813484\n",
       "983    HLA-DQA2        984  2984  4.725390"
      ]
     },
     "execution_count": 74,
     "metadata": {},
     "output_type": "execute_result"
    }
   ],
   "source": [
    "BMMC_distance = cal_node_distances(BMMC_index, BMMC_embedding)\n",
    "BMMC_distance.head(5)"
   ]
  },
  {
   "cell_type": "code",
   "execution_count": 75,
   "id": "buried-doctrine",
   "metadata": {},
   "outputs": [],
   "source": [
    "BMMC_distance.to_csv('../../results/result2/BMMC_distance.csv', sep='\\t', index=False)"
   ]
  },
  {
   "cell_type": "code",
   "execution_count": 76,
   "id": "cultural-exhibition",
   "metadata": {},
   "outputs": [],
   "source": [
    "bmmc_edgelist = '../../results/new_pairwise_exp/bmmc_rna/GMP_CD14_Monocytes_merged.edgelist'\n",
    "edgelist = pd.read_csv(bmmc_edgelist, sep='\\t', header=None)\n",
    "edgelist_list = edgelist.iloc[:, :2].stack().unique().tolist()\n",
    "path = '/Users/xinzeng/Desktop/research/role_singlecell/results/result2/bmmc_pairs/'"
   ]
  },
  {
   "cell_type": "code",
   "execution_count": 26,
   "id": "inclusive-tribute",
   "metadata": {},
   "outputs": [],
   "source": [
    "id_list = BMMC_distance.iloc[:10, [0, 1, 2]].values.tolist()\n",
    "\n",
    "for index_list in id_list:\n",
    "    batch_plot_1_hop(bmmc_edgelist,index_list[1:],path,index_list[0], edgelist_list)"
   ]
  },
  {
   "cell_type": "code",
   "execution_count": 77,
   "id": "numerical-roman",
   "metadata": {},
   "outputs": [
    {
     "name": "stdout",
     "output_type": "stream",
     "text": [
      "4.425027433298834\n"
     ]
    }
   ],
   "source": [
    "egr = BMMC_distance[BMMC_distance['Unnamed: 0'] == 'RASGEF1B'].values.tolist()[0]\n",
    "egr\n",
    "batch_plot_1_hop(bmmc_edgelist,egr[1:],path,egr[0], edgelist_list)"
   ]
  },
  {
   "cell_type": "code",
   "execution_count": 78,
   "id": "velvet-mirror",
   "metadata": {},
   "outputs": [
    {
     "name": "stdout",
     "output_type": "stream",
     "text": [
      "1.311459360812638\n"
     ]
    }
   ],
   "source": [
    "egr = BMMC_distance[BMMC_distance['Unnamed: 0'] == 'RETN'].values.tolist()[0]\n",
    "egr\n",
    "batch_plot_1_hop(bmmc_edgelist,egr[1:],path,egr[0], edgelist_list)"
   ]
  }
 ],
 "metadata": {
  "kernelspec": {
   "display_name": "Python 3 (ipykernel)",
   "language": "python",
   "name": "python3"
  },
  "language_info": {
   "codemirror_mode": {
    "name": "ipython",
    "version": 3
   },
   "file_extension": ".py",
   "mimetype": "text/x-python",
   "name": "python",
   "nbconvert_exporter": "python",
   "pygments_lexer": "ipython3",
   "version": "3.11.8"
  }
 },
 "nbformat": 4,
 "nbformat_minor": 5
}
